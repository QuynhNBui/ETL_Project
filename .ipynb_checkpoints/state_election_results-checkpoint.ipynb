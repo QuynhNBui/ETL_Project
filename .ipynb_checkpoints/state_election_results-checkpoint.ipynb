{
 "cells": [
  {
   "cell_type": "code",
   "execution_count": 1,
   "metadata": {},
   "outputs": [],
   "source": [
    "# Importing dependencies\n",
    "import pandas as pd\n",
    "import pymongo"
   ]
  },
  {
   "cell_type": "code",
   "execution_count": 2,
   "metadata": {},
   "outputs": [],
   "source": [
    "# Reading in .csv's\n",
    "election_df = pd.read_csv(\"Data/1976-2016-president.csv\")"
   ]
  },
  {
   "cell_type": "code",
   "execution_count": 3,
   "metadata": {},
   "outputs": [],
   "source": [
    "# Grouping election_df by state\n",
    "total_votes_by_state_df = election_df.groupby([\"state\", \"year\"]).max()[\"totalvotes\"].to_frame()"
   ]
  },
  {
   "cell_type": "code",
   "execution_count": 9,
   "metadata": {},
   "outputs": [],
   "source": [
    "# Grouping election_df by state\n",
    "votes_per_party_per_state_df = election_df.groupby([\"state\", \"year\", \"party\"]).\\\n",
    "                        max()[\"candidatevotes\"].to_frame().\\\n",
    "                        sort_values([\"state\", \"year\", \"candidatevotes\"], ascending=False).reset_index()"
   ]
  },
  {
   "cell_type": "code",
   "execution_count": 10,
   "metadata": {},
   "outputs": [],
   "source": [
    "# Initializing a new DataFrame with 2016 voting data from votes_per_party_per_state\n",
    "votes_per_state_2016_df = votes_per_party_per_state_df.loc[votes_per_party_per_state_df[\"year\"] == 2016]"
   ]
  },
  {
   "cell_type": "code",
   "execution_count": 11,
   "metadata": {},
   "outputs": [],
   "source": [
    "# Merging votes_per_state_2016_df and total_votes_by_state_df\n",
    "votes_per_state_2016_df = pd.merge(votes_per_state_2016_df, total_votes_by_state_df, on=[\"state\", \"year\"] )"
   ]
  },
  {
   "cell_type": "code",
   "execution_count": 12,
   "metadata": {},
   "outputs": [],
   "source": [
    "# Initializing a new column in votes_per_state_2016_df to hold the percentage of total votes each party's votes \n",
    "# make up\n",
    "votes_per_state_2016_df[\"percentage of total votes\"] = (votes_per_state_2016_df[\"candidatevotes\"] \n",
    "                                                     / votes_per_state_2016_df[\"totalvotes\"])*100"
   ]
  },
  {
   "cell_type": "code",
   "execution_count": 13,
   "metadata": {},
   "outputs": [],
   "source": [
    "# Initialize PyMongo to work with MongoDBs\n",
    "conn = 'mongodb://localhost:27017'\n",
    "client = pymongo.MongoClient(conn)"
   ]
  },
  {
   "cell_type": "code",
   "execution_count": 14,
   "metadata": {},
   "outputs": [],
   "source": [
    "# Define database and collection\n",
    "db = client.state_voting_db\n",
    "collection = db.state_votes"
   ]
  },
  {
   "cell_type": "code",
   "execution_count": 15,
   "metadata": {},
   "outputs": [],
   "source": [
    "# Initializing a variable with the names of each state in the votes_per_state_2016_df\n",
    "state_list = votes_per_state_2016_df[\"state\"].unique()"
   ]
  },
  {
   "cell_type": "code",
   "execution_count": 16,
   "metadata": {},
   "outputs": [],
   "source": [
    "# Using a for-loop to loop through votes_per_state_2016_df in order to update post with relevant voting data for each \n",
    "# state, and then to create a new MongoDB document for each state in state_voting_db\n",
    "for state in state_list:\n",
    "    # Initializing variables with a list of each state's political parties and total votes\n",
    "    parties = votes_per_state_2016_df.loc[votes_per_state_2016_df[\"state\"] == state, \"party\"].to_list()\n",
    "    total_votes = votes_per_state_2016_df.loc[votes_per_state_2016_df[\"state\"] == state, \"totalvotes\"].to_list()[0]\n",
    "    # Initializing post with state name, year, and total_votes\n",
    "    post = {\n",
    "                \"state\": state,\n",
    "                \"year\": 2016,\n",
    "                \"total_votes\": total_votes\n",
    "            } \n",
    "    # Using a for-loop to loop throught the states in state_list and retrieve the remaining voting data\n",
    "    for party in parties:\n",
    "        # Initializing a variable with the number of votes for the party in question\n",
    "        party_votes = votes_per_state_2016_df.loc[(votes_per_state_2016_df[\"state\"] == state)\n",
    "                                               & (votes_per_state_2016_df[\"party\"] == party), \n",
    "                                               \"candidatevotes\"].to_list()[0]\n",
    "        # Initializing a variable with the percentage of the party in question's votes of the state's total votes\n",
    "        percentage_of_total_votes = votes_per_state_2016_df.loc[(votes_per_state_2016_df[\"state\"] == state)\n",
    "                                                            & (votes_per_state_2016_df[\"party\"] == party), \n",
    "                                                            \"percentage of total votes\"].to_list()[0]\n",
    "\n",
    "        # Using a conditional to remove any potential \".\"'s from party names\n",
    "        if \".\" in party:\n",
    "            party_formatted = party.replace(\".\", \"\")\n",
    "            party_stats = {f\"{party_formatted}_votes\": party_votes, \n",
    "                           f\"{party_formatted}_percentage\": percentage_of_total_votes}\n",
    "            post[f\"{party_formatted}\"] = party_stats\n",
    "        elif \".\" not in party:\n",
    "            party_stats = {f\"{party}_votes\": party_votes, f\"{party}_percentage\": percentage_of_total_votes}\n",
    "            post[f\"{party}\"] = party_stats\n",
    "    # Storing the state's voting data as a MongoDB document in state_voting_db\n",
    "    collection.insert_one(post)\n",
    "    "
   ]
  },
  {
   "cell_type": "code",
   "execution_count": null,
   "metadata": {},
   "outputs": [],
   "source": []
  }
 ],
 "metadata": {
  "kernelspec": {
   "display_name": "Python 3",
   "language": "python",
   "name": "python3"
  },
  "language_info": {
   "codemirror_mode": {
    "name": "ipython",
    "version": 3
   },
   "file_extension": ".py",
   "mimetype": "text/x-python",
   "name": "python",
   "nbconvert_exporter": "python",
   "pygments_lexer": "ipython3",
   "version": "3.7.3"
  },
  "toc": {
   "base_numbering": 1,
   "nav_menu": {},
   "number_sections": true,
   "sideBar": true,
   "skip_h1_title": false,
   "title_cell": "Table of Contents",
   "title_sidebar": "Contents",
   "toc_cell": false,
   "toc_position": {},
   "toc_section_display": true,
   "toc_window_display": false
  }
 },
 "nbformat": 4,
 "nbformat_minor": 2
}
