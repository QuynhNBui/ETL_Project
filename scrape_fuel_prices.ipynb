{
 "cells": [
  {
   "cell_type": "code",
   "execution_count": 1,
   "metadata": {},
   "outputs": [],
   "source": [
    "# Dependencies\n",
    "from bs4 import BeautifulSoup\n",
    "from splinter import Browser\n",
    "import pandas as pd\n",
    "import pymongo"
   ]
  },
  {
   "cell_type": "code",
   "execution_count": 2,
   "metadata": {},
   "outputs": [],
   "source": [
    "# Initializing a variable with the path for chromedriver\n",
    "executable_path = {'executable_path': '/usr/local/bin/chromedriver'}\n",
    "# Creating a Browser instance for Google Chrome using chromedriver\n",
    "browser = Browser('chrome', **executable_path, headless=False)"
   ]
  },
  {
   "cell_type": "code",
   "execution_count": 3,
   "metadata": {},
   "outputs": [],
   "source": [
    "# Initializing a variable with the url of the AAA website that displays fuel prices by grade by state\n",
    "fuel_price_url = \"https://gasprices.aaa.com/state-gas-price-averages/\"\n",
    "# Visiting fuel_price_url\n",
    "browser.visit(fuel_price_url)"
   ]
  },
  {
   "cell_type": "code",
   "execution_count": 4,
   "metadata": {},
   "outputs": [],
   "source": [
    "# Initializing a variable with the html script of fuel_price_url\n",
    "html = browser.html\n",
    "# Initializing a variable with the html script parsed by BeautifulSoup\n",
    "soup = BeautifulSoup(html, 'html.parser')\n",
    "# Initializing a variable with the list created from the html script for the fuel price table\n",
    "table = pd.read_html(html)"
   ]
  },
  {
   "cell_type": "code",
   "execution_count": 5,
   "metadata": {},
   "outputs": [
    {
     "data": {
      "text/html": [
       "<div>\n",
       "<style scoped>\n",
       "    .dataframe tbody tr th:only-of-type {\n",
       "        vertical-align: middle;\n",
       "    }\n",
       "\n",
       "    .dataframe tbody tr th {\n",
       "        vertical-align: top;\n",
       "    }\n",
       "\n",
       "    .dataframe thead th {\n",
       "        text-align: right;\n",
       "    }\n",
       "</style>\n",
       "<table border=\"1\" class=\"dataframe\">\n",
       "  <thead>\n",
       "    <tr style=\"text-align: right;\">\n",
       "      <th></th>\n",
       "      <th>state</th>\n",
       "      <th>regular</th>\n",
       "      <th>mid_grade</th>\n",
       "      <th>premium</th>\n",
       "      <th>diesel</th>\n",
       "    </tr>\n",
       "  </thead>\n",
       "  <tbody>\n",
       "    <tr>\n",
       "      <th>0</th>\n",
       "      <td>Alaska</td>\n",
       "      <td>$3.064</td>\n",
       "      <td>$3.160</td>\n",
       "      <td>$3.303</td>\n",
       "      <td>$2.982</td>\n",
       "    </tr>\n",
       "    <tr>\n",
       "      <th>1</th>\n",
       "      <td>Alabama</td>\n",
       "      <td>$2.300</td>\n",
       "      <td>$2.628</td>\n",
       "      <td>$2.949</td>\n",
       "      <td>$2.790</td>\n",
       "    </tr>\n",
       "    <tr>\n",
       "      <th>2</th>\n",
       "      <td>Arkansas</td>\n",
       "      <td>$2.310</td>\n",
       "      <td>$2.606</td>\n",
       "      <td>$2.871</td>\n",
       "      <td>$2.723</td>\n",
       "    </tr>\n",
       "    <tr>\n",
       "      <th>3</th>\n",
       "      <td>Arizona</td>\n",
       "      <td>$2.781</td>\n",
       "      <td>$3.009</td>\n",
       "      <td>$3.223</td>\n",
       "      <td>$3.015</td>\n",
       "    </tr>\n",
       "    <tr>\n",
       "      <th>4</th>\n",
       "      <td>California</td>\n",
       "      <td>$3.609</td>\n",
       "      <td>$3.777</td>\n",
       "      <td>$3.886</td>\n",
       "      <td>$3.918</td>\n",
       "    </tr>\n",
       "  </tbody>\n",
       "</table>\n",
       "</div>"
      ],
      "text/plain": [
       "        state regular mid_grade premium  diesel\n",
       "0      Alaska  $3.064    $3.160  $3.303  $2.982\n",
       "1     Alabama  $2.300    $2.628  $2.949  $2.790\n",
       "2    Arkansas  $2.310    $2.606  $2.871  $2.723\n",
       "3     Arizona  $2.781    $3.009  $3.223  $3.015\n",
       "4  California  $3.609    $3.777  $3.886  $3.918"
      ]
     },
     "execution_count": 5,
     "metadata": {},
     "output_type": "execute_result"
    }
   ],
   "source": [
    "# Intitalizing a DataFrame from the list \"table\"\n",
    "state_fuel_df = table[0]\n",
    "# Setting the column names of state_fuel_df\n",
    "state_fuel_df.columns = [\"state\", \"regular\", \"mid_grade\", \"premium\", \"diesel\"]\n",
    "# Displaying state_fuel_df\n",
    "state_fuel_df.head()"
   ]
  },
  {
   "cell_type": "code",
   "execution_count": 6,
   "metadata": {},
   "outputs": [],
   "source": [
    "# Initialize PyMongo to work with MongoDBs\n",
    "conn = 'mongodb://localhost:27017'\n",
    "client = pymongo.MongoClient(conn)"
   ]
  },
  {
   "cell_type": "code",
   "execution_count": 7,
   "metadata": {},
   "outputs": [],
   "source": [
    "# Define database and collection\n",
    "db = client.etl_db\n",
    "collection = db.fuel_prices\n",
    "db.fuel_prices.drop()"
   ]
  },
  {
   "cell_type": "code",
   "execution_count": 8,
   "metadata": {},
   "outputs": [],
   "source": [
    "# Using a for-loop to iterate through the rows of state_fuel_df and insert each state's name and its fuel prices into \n",
    "# the MongoDB database fuel_prices_db collection fuel_prices as individual documents\n",
    "for index, row in state_fuel_df.iterrows():\n",
    "\n",
    "    post = {\n",
    "                \"state\": row[\"state\"],\n",
    "                \"regular\": row[\"regular\"],\n",
    "                \"mid_grade\": row[\"mid_grade\"],\n",
    "                \"premium\": row[\"premium\"],\n",
    "                \"diesel\": row[\"diesel\"]\n",
    "            }\n",
    "\n",
    "    collection.insert_one(post)\n"
   ]
  },
  {
   "cell_type": "code",
   "execution_count": null,
   "metadata": {},
   "outputs": [],
   "source": []
  }
 ],
 "metadata": {
  "kernelspec": {
   "display_name": "Python 3",
   "language": "python",
   "name": "python3"
  },
  "language_info": {
   "codemirror_mode": {
    "name": "ipython",
    "version": 3
   },
   "file_extension": ".py",
   "mimetype": "text/x-python",
   "name": "python",
   "nbconvert_exporter": "python",
   "pygments_lexer": "ipython3",
   "version": "3.7.3"
  }
 },
 "nbformat": 4,
 "nbformat_minor": 2
}
