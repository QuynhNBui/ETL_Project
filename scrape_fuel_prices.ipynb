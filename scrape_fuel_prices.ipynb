{
 "cells": [
  {
   "cell_type": "code",
   "execution_count": 1,
   "metadata": {},
   "outputs": [],
   "source": [
    "# Dependencies\n",
    "from splinter import Browser\n",
    "from bs4 import BeautifulSoup\n",
    "import re\n",
    "import requests\n",
    "import pandas as pd\n",
    "import pymongo"
   ]
  },
  {
   "cell_type": "code",
   "execution_count": 2,
   "metadata": {},
   "outputs": [],
   "source": [
    "# Initializing a variable with the path for chromedriver\n",
    "executable_path = {'executable_path': '/usr/local/bin/chromedriver'}\n",
    "# Creating a Browser instance for Google Chrome using chromedriver\n",
    "browser = Browser('chrome', **executable_path, headless=False)"
   ]
  },
  {
   "cell_type": "code",
   "execution_count": 3,
   "metadata": {},
   "outputs": [],
   "source": [
    "# Initializing a variable with the url of the AAA website that displays fuel prices by grade by state\n",
    "fuel_price_url = \"https://gasprices.aaa.com/state-gas-price-averages/\"\n",
    "# Visiting fuel_price_url\n",
    "browser.visit(fuel_price_url)"
   ]
  },
  {
   "cell_type": "code",
   "execution_count": 4,
   "metadata": {},
   "outputs": [],
   "source": [
    "# Initializing variables that will hold the elements returned by scraping fuel_price_url for the names of each \n",
    "# state and their fuel prices by grade\n",
    "states = browser.find_link_by_partial_href(\"https://gasprices.aaa.com?state=\")\n",
    "regular = browser.find_by_tag(\"td[class='regular']\")\n",
    "mid_grade = browser.find_by_tag(\"td[class='mid_grade']\")\n",
    "premium = browser.find_by_tag(\"td[class='premium']\")"
   ]
  },
  {
   "cell_type": "code",
   "execution_count": 5,
   "metadata": {},
   "outputs": [],
   "source": [
    "# Removing the first 10 entries in states because they are duplicate state names that do not have fuel data related  \n",
    "# to them \n",
    "states = states[10:]"
   ]
  },
  {
   "cell_type": "code",
   "execution_count": 6,
   "metadata": {},
   "outputs": [],
   "source": [
    "# Initializing a empty list's that will hold the names of each state and their fuel prices by grade\n",
    "states_list = []\n",
    "for state in states:\n",
    "    states_list.append(state.text)\n",
    "regular_list = []\n",
    "for price in regular:\n",
    "    regular_list.append(price.text)\n",
    "mid_grade_list = []\n",
    "for price in mid_grade:\n",
    "    mid_grade_list.append(price.text)\n",
    "premium_list = []\n",
    "for price in premium:\n",
    "    premium_list.append(price.text)"
   ]
  },
  {
   "cell_type": "code",
   "execution_count": 7,
   "metadata": {},
   "outputs": [],
   "source": [
    "# Initializing a DataFrame with the lists of state names and their fuel prices by grade\n",
    "state_fuel_df = pd.DataFrame({\"state\": states_list, \"regular\": regular_list, \"mid_grade\": mid_grade_list, \"premium\": premium_list})    "
   ]
  },
  {
   "cell_type": "code",
   "execution_count": 8,
   "metadata": {},
   "outputs": [
    {
     "data": {
      "text/html": [
       "<div>\n",
       "<style scoped>\n",
       "    .dataframe tbody tr th:only-of-type {\n",
       "        vertical-align: middle;\n",
       "    }\n",
       "\n",
       "    .dataframe tbody tr th {\n",
       "        vertical-align: top;\n",
       "    }\n",
       "\n",
       "    .dataframe thead th {\n",
       "        text-align: right;\n",
       "    }\n",
       "</style>\n",
       "<table border=\"1\" class=\"dataframe\">\n",
       "  <thead>\n",
       "    <tr style=\"text-align: right;\">\n",
       "      <th></th>\n",
       "      <th>state</th>\n",
       "      <th>regular</th>\n",
       "      <th>mid_grade</th>\n",
       "      <th>premium</th>\n",
       "    </tr>\n",
       "  </thead>\n",
       "  <tbody>\n",
       "    <tr>\n",
       "      <th>0</th>\n",
       "      <td>Alaska</td>\n",
       "      <td>$3.077</td>\n",
       "      <td>$3.163</td>\n",
       "      <td>$3.301</td>\n",
       "    </tr>\n",
       "    <tr>\n",
       "      <th>1</th>\n",
       "      <td>Alabama</td>\n",
       "      <td>$2.306</td>\n",
       "      <td>$2.638</td>\n",
       "      <td>$2.955</td>\n",
       "    </tr>\n",
       "    <tr>\n",
       "      <th>2</th>\n",
       "      <td>Arkansas</td>\n",
       "      <td>$2.317</td>\n",
       "      <td>$2.600</td>\n",
       "      <td>$2.876</td>\n",
       "    </tr>\n",
       "    <tr>\n",
       "      <th>3</th>\n",
       "      <td>Arizona</td>\n",
       "      <td>$2.777</td>\n",
       "      <td>$3.011</td>\n",
       "      <td>$3.224</td>\n",
       "    </tr>\n",
       "    <tr>\n",
       "      <th>4</th>\n",
       "      <td>California</td>\n",
       "      <td>$3.612</td>\n",
       "      <td>$3.780</td>\n",
       "      <td>$3.891</td>\n",
       "    </tr>\n",
       "  </tbody>\n",
       "</table>\n",
       "</div>"
      ],
      "text/plain": [
       "        state regular mid_grade premium\n",
       "0      Alaska  $3.077    $3.163  $3.301\n",
       "1     Alabama  $2.306    $2.638  $2.955\n",
       "2    Arkansas  $2.317    $2.600  $2.876\n",
       "3     Arizona  $2.777    $3.011  $3.224\n",
       "4  California  $3.612    $3.780  $3.891"
      ]
     },
     "execution_count": 8,
     "metadata": {},
     "output_type": "execute_result"
    }
   ],
   "source": [
    "# Displaying state_fuel_df\n",
    "state_fuel_df.head()"
   ]
  },
  {
   "cell_type": "code",
   "execution_count": 9,
   "metadata": {},
   "outputs": [],
   "source": [
    "# Initialize PyMongo to work with MongoDBs\n",
    "conn = 'mongodb://localhost:27017'\n",
    "client = pymongo.MongoClient(conn)"
   ]
  },
  {
   "cell_type": "code",
   "execution_count": 10,
   "metadata": {},
   "outputs": [],
   "source": [
    "# Define database and collection\n",
    "db = client.fuel_prices_db\n",
    "collection = db.fuel_prices"
   ]
  },
  {
   "cell_type": "code",
   "execution_count": 11,
   "metadata": {},
   "outputs": [],
   "source": [
    "# Using a for-loop to iterate through the rows of state_fuel_df and insert each state's name and its fuel prices into \n",
    "# the MongoDB database fuel_prices_db collection fuel_prices as individual documents\n",
    "for index, row in state_fuel_df.iterrows():\n",
    "\n",
    "    post = {\n",
    "                \"state\": row[\"state\"],\n",
    "                \"regular\": row[\"regular\"],\n",
    "                \"mid_grade\": row[\"mid_grade\"],\n",
    "                \"premium\": row[\"premium\"]\n",
    "            }\n",
    "\n",
    "    collection.insert_one(post)\n"
   ]
  },
  {
   "cell_type": "code",
   "execution_count": null,
   "metadata": {},
   "outputs": [],
   "source": []
  }
 ],
 "metadata": {
  "kernelspec": {
   "display_name": "Python 3",
   "language": "python",
   "name": "python3"
  },
  "language_info": {
   "codemirror_mode": {
    "name": "ipython",
    "version": 3
   },
   "file_extension": ".py",
   "mimetype": "text/x-python",
   "name": "python",
   "nbconvert_exporter": "python",
   "pygments_lexer": "ipython3",
   "version": "3.7.3"
  }
 },
 "nbformat": 4,
 "nbformat_minor": 2
}
